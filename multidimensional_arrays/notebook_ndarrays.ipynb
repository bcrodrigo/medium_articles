{
 "cells": [
  {
   "cell_type": "markdown",
   "id": "3085aa65-f9d6-4a1f-8de9-9c9b9d538be4",
   "metadata": {},
   "source": [
    "# What are Multidimensional Arrays in Python?"
   ]
  },
  {
   "cell_type": "markdown",
   "id": "820255eb-5779-4064-96e1-fc389200a5cb",
   "metadata": {},
   "source": [
    "Medium article posted [here](https://medium.com/@rodrigobc10/what-are-multidimensional-arrays-in-python-8ce82b8cfb41)"
   ]
  },
  {
   "cell_type": "markdown",
   "id": "97b40592-8488-41a4-ae01-78f2b5df17c5",
   "metadata": {},
   "source": [
    "# 1D and 2D arrays in Python"
   ]
  },
  {
   "cell_type": "code",
   "execution_count": 1,
   "id": "b72240cb-9a40-4001-8726-16f34aed5436",
   "metadata": {},
   "outputs": [
    {
     "name": "stdout",
     "output_type": "stream",
     "text": [
      "[1 2 3 4 5 6]\n"
     ]
    }
   ],
   "source": [
    "import numpy as np\n",
    "\n",
    "a = np.array([1,2,3,4,5,6])\n",
    "print(a)"
   ]
  },
  {
   "cell_type": "markdown",
   "id": "60d54a55-886c-4ac2-b055-a55a942772fd",
   "metadata": {},
   "source": [
    "Define a helper function"
   ]
  },
  {
   "cell_type": "code",
   "execution_count": 2,
   "id": "66c9cbae-5f33-4e02-b23e-9f3c97ce2b10",
   "metadata": {},
   "outputs": [],
   "source": [
    "def array_attributes(a):\n",
    "    print('Data type:\\t',a.dtype)\n",
    "    print('Size (length):\\t',a.size)\n",
    "    print('Dimensions:\\t',a.ndim)\n",
    "    print('Shape:\\t\\t',a.shape)"
   ]
  },
  {
   "cell_type": "code",
   "execution_count": 3,
   "id": "e6147a15-61a6-4c27-aa80-6286f6461d72",
   "metadata": {},
   "outputs": [
    {
     "name": "stdout",
     "output_type": "stream",
     "text": [
      "Data type:\t int64\n",
      "Size (length):\t 6\n",
      "Dimensions:\t 1\n",
      "Shape:\t\t (6,)\n"
     ]
    }
   ],
   "source": [
    "array_attributes(a)"
   ]
  },
  {
   "cell_type": "markdown",
   "id": "2d47d96e-05b3-4f9f-b299-8aeeb0cce59c",
   "metadata": {},
   "source": [
    "# Reshaping 1D arrays into 2D arrays"
   ]
  },
  {
   "cell_type": "code",
   "execution_count": 4,
   "id": "45a90d12-2d36-4a4b-8e6d-3a99a4e8e4e0",
   "metadata": {},
   "outputs": [
    {
     "name": "stdout",
     "output_type": "stream",
     "text": [
      "[[1]\n",
      " [2]\n",
      " [3]\n",
      " [4]\n",
      " [5]\n",
      " [6]]\n"
     ]
    }
   ],
   "source": [
    "b = a.reshape(6,1)\n",
    "print(b)"
   ]
  },
  {
   "cell_type": "code",
   "execution_count": 5,
   "id": "c1a66d15-b33d-4e80-8080-e372ade756b8",
   "metadata": {},
   "outputs": [
    {
     "name": "stdout",
     "output_type": "stream",
     "text": [
      "Data type:\t int64\n",
      "Size (length):\t 6\n",
      "Dimensions:\t 2\n",
      "Shape:\t\t (6, 1)\n"
     ]
    }
   ],
   "source": [
    "array_attributes(b)"
   ]
  },
  {
   "cell_type": "code",
   "execution_count": 6,
   "id": "47080852-615b-40e7-9c12-272acb3d07cb",
   "metadata": {},
   "outputs": [
    {
     "name": "stdout",
     "output_type": "stream",
     "text": [
      "[1]\n",
      "1\n"
     ]
    }
   ],
   "source": [
    "print(b[0]) # outputs [1] \n",
    "print(b[0,0]) # outputs 1"
   ]
  },
  {
   "cell_type": "code",
   "execution_count": 7,
   "id": "e4aeac4f-fc64-4348-9015-64931b8343a0",
   "metadata": {},
   "outputs": [
    {
     "name": "stdout",
     "output_type": "stream",
     "text": [
      "[[1 2 3]\n",
      " [4 5 6]]\n"
     ]
    }
   ],
   "source": [
    "c = a.reshape(2,3)\n",
    "print(c)"
   ]
  },
  {
   "cell_type": "code",
   "execution_count": 8,
   "id": "ba12f002-6185-44eb-9a4e-48855682ca8a",
   "metadata": {},
   "outputs": [
    {
     "name": "stdout",
     "output_type": "stream",
     "text": [
      "Data type:\t int64\n",
      "Size (length):\t 6\n",
      "Dimensions:\t 2\n",
      "Shape:\t\t (2, 3)\n"
     ]
    }
   ],
   "source": [
    "array_attributes(c)"
   ]
  },
  {
   "cell_type": "markdown",
   "id": "276a4bd9-5694-4f26-8b8d-85045a2ed729",
   "metadata": {},
   "source": [
    "# N-Dimensional Arrays"
   ]
  },
  {
   "cell_type": "code",
   "execution_count": 9,
   "id": "633769a6-58b6-484d-8bed-c98cddcb6db6",
   "metadata": {},
   "outputs": [],
   "source": [
    "# fixed random seed for repeatability\n",
    "np.random.seed(seed=10)\n",
    "array_3d = np.random.randint(-10,10, size = (5,3,2))"
   ]
  },
  {
   "cell_type": "code",
   "execution_count": 10,
   "id": "616a8f6a-510d-4036-a25c-68fe5d30c08f",
   "metadata": {},
   "outputs": [
    {
     "name": "stdout",
     "output_type": "stream",
     "text": [
      "Data type:\t int64\n",
      "Size (length):\t 30\n",
      "Dimensions:\t 3\n",
      "Shape:\t\t (5, 3, 2)\n"
     ]
    }
   ],
   "source": [
    "array_attributes(array_3d)"
   ]
  },
  {
   "cell_type": "code",
   "execution_count": 11,
   "id": "afd9c92f-8f8d-43f7-9064-9b7ace877126",
   "metadata": {},
   "outputs": [
    {
     "name": "stdout",
     "output_type": "stream",
     "text": [
      "array_3d[0,:,:]\n",
      "\n",
      "\n",
      "[[ -1  -6]\n",
      " [  5 -10]\n",
      " [  7   6]]\n",
      "\n",
      "\n",
      "array_3d[1,:,:]\n",
      "\n",
      "\n",
      "[[  7  -2]\n",
      " [ -1 -10]\n",
      " [  0  -2]]\n",
      "\n",
      "\n",
      "array_3d[2,:,:]\n",
      "\n",
      "\n",
      "[[-6  9]\n",
      " [ 6 -6]\n",
      " [ 5  1]]\n",
      "\n",
      "\n",
      "array_3d[3,:,:]\n",
      "\n",
      "\n",
      "[[ 1 -9]\n",
      " [-2 -6]\n",
      " [ 4  7]]\n",
      "\n",
      "\n",
      "array_3d[4,:,:]\n",
      "\n",
      "\n",
      "[[ 9  3]\n",
      " [-5  3]\n",
      " [ 9  3]]\n",
      "\n",
      "\n"
     ]
    }
   ],
   "source": [
    "for i in range(5):\n",
    "    print(f'array_3d[{i},:,:]')\n",
    "    print('\\n')\n",
    "    print(array_3d[i,:,:])\n",
    "    print('\\n')"
   ]
  },
  {
   "cell_type": "markdown",
   "id": "cf70f4d8-2cd5-42ae-9f93-64444d133dc1",
   "metadata": {},
   "source": [
    "## The axis concept"
   ]
  },
  {
   "cell_type": "code",
   "execution_count": 12,
   "id": "7ba84b55-f609-4de1-9cb9-269b7812fbca",
   "metadata": {},
   "outputs": [
    {
     "name": "stdout",
     "output_type": "stream",
     "text": [
      "[[ 10  -5]\n",
      " [  3 -29]\n",
      " [ 25  15]]\n"
     ]
    }
   ],
   "source": [
    "print(np.sum(array_3d,axis=0))"
   ]
  },
  {
   "cell_type": "code",
   "execution_count": 13,
   "id": "932e3ef8-eaef-4327-94e4-6c4b4de3c039",
   "metadata": {},
   "outputs": [
    {
     "name": "stdout",
     "output_type": "stream",
     "text": [
      "[[ 11 -10]\n",
      " [  6 -14]\n",
      " [  5   4]\n",
      " [  3  -8]\n",
      " [ 13   9]]\n"
     ]
    }
   ],
   "source": [
    "print(np.sum(array_3d,axis=1))"
   ]
  },
  {
   "cell_type": "code",
   "execution_count": 14,
   "id": "9ce8981f-d134-4374-a945-8bb32c32afb0",
   "metadata": {},
   "outputs": [
    {
     "name": "stdout",
     "output_type": "stream",
     "text": [
      "[[ -7  -5  13]\n",
      " [  5 -11  -2]\n",
      " [  3   0   6]\n",
      " [ -8  -8  11]\n",
      " [ 12  -2  12]]\n"
     ]
    }
   ],
   "source": [
    "print(np.sum(array_3d,axis=2))"
   ]
  },
  {
   "cell_type": "code",
   "execution_count": 15,
   "id": "28dfc73a-820c-4b5f-b067-779f7f9c779c",
   "metadata": {},
   "outputs": [
    {
     "name": "stdout",
     "output_type": "stream",
     "text": [
      "[  5 -26  40]\n"
     ]
    }
   ],
   "source": [
    "print(np.sum(array_3d,axis=(0,2)))"
   ]
  }
 ],
 "metadata": {
  "kernelspec": {
   "display_name": "pytorch_env_kernel",
   "language": "python",
   "name": "pytorch_env_kernel"
  },
  "language_info": {
   "codemirror_mode": {
    "name": "ipython",
    "version": 3
   },
   "file_extension": ".py",
   "mimetype": "text/x-python",
   "name": "python",
   "nbconvert_exporter": "python",
   "pygments_lexer": "ipython3",
   "version": "3.12.2"
  }
 },
 "nbformat": 4,
 "nbformat_minor": 5
}
